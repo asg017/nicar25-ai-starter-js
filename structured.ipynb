{
 "cells": [
  {
   "cell_type": "markdown",
   "metadata": {},
   "source": [
    "# Part 2: Structured Output Generation"
   ]
  },
  {
   "cell_type": "markdown",
   "metadata": {},
   "source": [
    "Second part of the \"AI Starter Pack JavaScript\" NICAR25 class - let's try out structured output generation!\n",
    "\n",
    "Structured output generation involves giving an LLM a JSON schema that it will follow when generating output. Instead of replying back with english or \"Sure thing!\", it will instead return the exact JSON parse-able schema that you care about. \n",
    "\n",
    "Structured output generation is great for:\n",
    "\n",
    "- Natural language processing\n",
    "- Extracting data out of super messy data\n",
    "- Fake data generation\n",
    "\n",
    "Though I wouldn't trust structured outputs for *real* data, like 'Return the FIPS code for Kern County' or \"return a list of current Lakers players and their season scores\""
   ]
  },
  {
   "cell_type": "markdown",
   "metadata": {},
   "source": [
    "## Loading Environment variables for OpenAI\n",
    "\n",
    "Copy+paste the `.env.sample` file to a new `.env` file, then paste in the OpenAI key that I will share during the class."
   ]
  },
  {
   "cell_type": "code",
   "execution_count": null,
   "metadata": {},
   "outputs": [],
   "source": [
    "import \"jsr:@std/dotenv/load\";"
   ]
  },
  {
   "cell_type": "markdown",
   "metadata": {},
   "source": [
    "## Sample: Hitting the OpenAI API with the Vercel AI SDK"
   ]
  },
  {
   "cell_type": "code",
   "execution_count": null,
   "metadata": {},
   "outputs": [],
   "source": [
    "import { generateText } from \"npm:ai\";\n",
    "import { openai } from \"npm:@ai-sdk/openai\";\n",
    "\n",
    "const {text} = await generateText({\n",
    "  model: openai(\"gpt-4o-mini\"),\n",
    "  prompt: \"Short haiku about a lonely mountain\",\n",
    "});\n",
    "console.log(text);"
   ]
  },
  {
   "cell_type": "code",
   "execution_count": null,
   "metadata": {},
   "outputs": [],
   "source": [
    "// How do we get JSON back? Can we just ask for it?\n",
    "const {text} = await generateText({\n",
    "  model: openai(\"gpt-4o-mini\"),\n",
    "  prompt: \"JSON of a person with name and age\",\n",
    "});\n",
    "console.log(text);"
   ]
  },
  {
   "cell_type": "code",
   "execution_count": null,
   "metadata": {},
   "outputs": [],
   "source": [
    "JSON.parse(text); // :("
   ]
  },
  {
   "cell_type": "markdown",
   "metadata": {},
   "source": [
    "## Solution: `generateObject()` with `zod`"
   ]
  },
  {
   "cell_type": "code",
   "execution_count": null,
   "metadata": {},
   "outputs": [],
   "source": [
    "import { generateObject } from \"npm:ai\";\n",
    "import { z } from \"npm:zod\";\n",
    "\n",
    "const PersonSchema = z.object({\n",
    "  name: z.string(),\n",
    "  age: z.number(),\n",
    "});\n",
    "\n",
    "const {object} = await generateObject({\n",
    "  model: openai(\"gpt-4o-mini\"),\n",
    "  prompt: \"JSON of a person with name and age\",\n",
    "  schema: PersonSchema\n",
    "});\n",
    "\n",
    "console.log(object);\n",
    "console.log(object.name);\n",
    "console.log(object.age);"
   ]
  },
  {
   "cell_type": "markdown",
   "metadata": {},
   "source": [
    "## Now let's cook with campaign emails"
   ]
  },
  {
   "cell_type": "code",
   "execution_count": null,
   "metadata": {},
   "outputs": [],
   "source": [
    "import {Database} from \"jsr:@db/sqlite\";\n",
    "const db = new Database(\"dwillis-emails.db\");\n",
    "\n",
    "for (const { rowid, body } of db.sql`select rowid, body from emails_raw limit 10`) {\n",
    "  console.log(rowid, body.substring(0, 100));\n",
    "}"
   ]
  },
  {
   "cell_type": "code",
   "execution_count": null,
   "metadata": {},
   "outputs": [],
   "source": [
    "const PROMPT = `\n",
    "    Parse the following political email and return a JSON object with the following schema:\n",
    "    \n",
    "    \"committee\": Name of the committee in the disclaimer that begins with 'Paid for by'  \\\n",
    "    but does not include 'Paid for by', the committee address, or the treasurer name. \n",
    "    Should be null if not present.\n",
    "    \n",
    "    \"sender\" which is the name of the person, if any, mentioned as the author of the email. \n",
    "    Should be null if not present.\n",
    "    \n",
    "    Do not include any other text, no yapping.\n",
    "`;\n",
    "\n",
    "const EmailSchema = z.object({\n",
    "  committee: z.string().nullable(),\n",
    "  sender: z.string().nullable(),\n",
    "});\n",
    "\n",
    "for (const { rowid, body } of db.sql`select rowid, body from emails_raw limit 3`) {\n",
    "  const { object } = await generateObject({\n",
    "    model: openai(\"gpt-4o-mini\"),\n",
    "    prompt: PROMPT + body,\n",
    "    schema: EmailSchema,\n",
    "  });\n",
    "  console.log(object);\n",
    "}\n"
   ]
  },
  {
   "cell_type": "code",
   "execution_count": null,
   "metadata": {},
   "outputs": [],
   "source": []
  }
 ],
 "metadata": {
  "kernelspec": {
   "display_name": "Deno",
   "language": "typescript",
   "name": "deno"
  },
  "language_info": {
   "codemirror_mode": "typescript",
   "file_extension": ".ts",
   "mimetype": "text/x.typescript",
   "name": "typescript",
   "nbconvert_exporter": "script",
   "pygments_lexer": "typescript",
   "version": "5.6.2"
  }
 },
 "nbformat": 4,
 "nbformat_minor": 2
}
